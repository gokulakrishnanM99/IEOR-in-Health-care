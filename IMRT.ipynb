{
  "nbformat": 4,
  "nbformat_minor": 0,
  "metadata": {
    "colab": {
      "name": "IMRT.ipynb",
      "provenance": [],
      "collapsed_sections": []
    },
    "kernelspec": {
      "name": "python3",
      "display_name": "Python 3"
    },
    "language_info": {
      "name": "python"
    }
  },
  "cells": [
    {
      "cell_type": "markdown",
      "source": [
        "**Intensity-modulated radiation therapy (IMRT) is an advanced type of radiation therapy used to treat cancer and noncancerous tumors. IMRT uses advanced technology to manipulate photon and proton beams of radiation to conform to the shape of a tumor.**"
      ],
      "metadata": {
        "id": "f27if3pcyH8W"
      }
    },
    {
      "cell_type": "code",
      "source": [
        "import numpy as np\n",
        "import matplotlib.pyplot as plt"
      ],
      "metadata": {
        "id": "dXI6AYy4EhkK"
      },
      "execution_count": null,
      "outputs": []
    },
    {
      "cell_type": "code",
      "source": [
        "#Function to plot the radiation output\n",
        "def plotR(A, colormap):\n",
        "  plt.pcolor(A,cmap= colormap)\n",
        "  plt.colorbar()\n",
        "  plt.grid()\n",
        "  plt.show()"
      ],
      "metadata": {
        "id": "cAwk5uLjso8i"
      },
      "execution_count": null,
      "outputs": []
    },
    {
      "cell_type": "code",
      "source": [
        "#IMRT solution need to achieve\n",
        "# 7x6 units with each beam splited into 20 small beamlets\n",
        "A =np.zeros((120,140))\n",
        "for i in range(120):\n",
        "    for j in range(140):\n",
        "        radius = ((i-60)**2 + (j-70)**2) **.5 #calculating threshold radius\n",
        "        if radius <= 60:\n",
        "            A[i][j]+=4              #intensity set to 4\n",
        "for i in  range(40,100):\n",
        "    for j in range(20,40):\n",
        "        A[j][i]=10                  #intensity set to 10\n",
        "for i in  range(60,80):\n",
        "    for j in range(40,80):\n",
        "        A[j][i]=10\n",
        "for i in  range(40,100):\n",
        "    for j in range(80,100):\n",
        "        A[j][i]=10\n",
        "print(\"The IMRT solution need to achieve\")\n",
        "plotR(A, 'hot') "
      ],
      "metadata": {
        "colab": {
          "base_uri": "https://localhost:8080/",
          "height": 269
        },
        "id": "OL4DbpBQsKfR",
        "outputId": "a485497a-de6d-454b-c0ce-ab01fcf377bc"
      },
      "execution_count": null,
      "outputs": [
        {
          "output_type": "display_data",
          "data": {
            "text/plain": [
              "<Figure size 432x288 with 2 Axes>"
            ],
            "image/png": "[encoded data removed]"
          },
          "metadata": {
            "needs_background": "light"
          }
        }
      ]
    },
    {
      "cell_type": "code",
      "source": [
        "#function to create a decaying radiation beam with respect to distance travelled \n",
        "def dose(r1, r2, c1, c2, intense, str ):\n",
        "  beam = np.zeros((6, 7)) #rows & columns\n",
        "  for i in  range(r1,r2):\n",
        "      for j in range(c1,c2):\n",
        "          beam[i][j] = intense\n",
        "          if str == \"UpDown\":\n",
        "            beam[i][j] = beam[i][j] - (((1/8)  * intense) * (r2 - i)) \n",
        "          if str == \"DownUp\":\n",
        "            beam[i][j] = beam[i][j] - (((1/8)  * intense) * i)  #decreasing the intesity to half for every 4 units\n",
        "          if str == \"LeftRight\":\n",
        "            beam[i][j] = beam[i][j] - (((1/8)  * intense) * j)\n",
        "          if str == \"RightLeft\":\n",
        "            beam[i][j] = beam[i][j] -(((1/8)  * intense) * (c2 - j))\n",
        "  return beam       "
      ],
      "metadata": {
        "id": "plKiwVY7sKkn"
      },
      "execution_count": null,
      "outputs": []
    },
    {
      "cell_type": "code",
      "source": [
        "#creating one beam with intensity 9\n",
        "ta = dose(0,6,3,4, 9, \"DownUp\")\n",
        "ta"
      ],
      "metadata": {
        "colab": {
          "base_uri": "https://localhost:8080/"
        },
        "id": "VjBKbS4wsKnJ",
        "outputId": "f23ea63a-de5d-4d0a-e831-73ea3f25aeda"
      },
      "execution_count": null,
      "outputs": [
        {
          "output_type": "execute_result",
          "data": {
            "text/plain": [
              "array([[0.   , 0.   , 0.   , 9.   , 0.   , 0.   , 0.   ],\n",
              "       [0.   , 0.   , 0.   , 7.875, 0.   , 0.   , 0.   ],\n",
              "       [0.   , 0.   , 0.   , 6.75 , 0.   , 0.   , 0.   ],\n",
              "       [0.   , 0.   , 0.   , 5.625, 0.   , 0.   , 0.   ],\n",
              "       [0.   , 0.   , 0.   , 4.5  , 0.   , 0.   , 0.   ],\n",
              "       [0.   , 0.   , 0.   , 3.375, 0.   , 0.   , 0.   ]])"
            ]
          },
          "metadata": {},
          "execution_count": 5
        }
      ]
    },
    {
      "cell_type": "code",
      "source": [
        "plotR(ta, 'bwr')"
      ],
      "metadata": {
        "colab": {
          "base_uri": "https://localhost:8080/",
          "height": 269
        },
        "id": "3YvhlqBWsKpz",
        "outputId": "b64fd4d9-3b49-412c-882a-d2c232ef7428"
      },
      "execution_count": null,
      "outputs": [
        {
          "output_type": "display_data",
          "data": {
            "text/plain": [
              "<Figure size 432x288 with 2 Axes>"
            ],
            "image/png": "[encoded data removed]"
          },
          "metadata": {
            "needs_background": "light"
          }
        }
      ]
    },
    {
      "cell_type": "code",
      "source": [
        "#creating different beams with different intensity and passed at different places\n",
        "b1 = dose(0,6,2,3,3, \"DownUp\")\n",
        "b2 = dose(0,6,3,4, 6, \"DownUp\")\n",
        "b3 = dose(0,6,4,5, 3, \"DownUp\")\n",
        "\n",
        "b4 = dose(1,2,0,7,5, \"LeftRight\")\n",
        "b5 = dose(2,3,0,7, 3, \"LeftRight\")\n",
        "b6 = dose(3,4,0,7, 3, \"LeftRight\")\n",
        "b7 = dose(4,5,0,7, 5, \"LeftRight\")\n",
        "\n",
        "\n",
        "b8 = dose(0,6,2,3, 3, \"UpDown\")\n",
        "b9 = dose(0,6,3,4, 5, \"UpDown\")\n",
        "b10 = dose(0,6,4,5, 3, \"UpDown\")\n",
        "\n",
        "b11 = dose(1,2,0,7, 5, \"RightLeft\")\n",
        "b12 = dose(2,3,0,7, 3, \"RightLeft\")\n",
        "b13 = dose(3,4,0,7, 3, \"RightLeft\")\n",
        "b14 = dose(4,5,0,7, 5, \"RightLeft\")"
      ],
      "metadata": {
        "id": "raBc6TjrsKsR"
      },
      "execution_count": null,
      "outputs": []
    },
    {
      "cell_type": "code",
      "source": [
        "#adding total intensity\n",
        "b = b1 + b2+ b3 + b4 + b5 + b6 +b7 + b8 + b9 + b10 + b11 + b12 + b13 + b14\n",
        "print(b)"
      ],
      "metadata": {
        "colab": {
          "base_uri": "https://localhost:8080/"
        },
        "id": "qw0B5Fn8sKuq",
        "outputId": "c6b32f03-6d89-4724-82c3-af9c0b523897"
      },
      "execution_count": null,
      "outputs": [
        {
          "output_type": "stream",
          "name": "stdout",
          "text": [
            "[[ 0.     0.     3.75   7.25   3.75   0.     0.   ]\n",
            " [ 5.625  5.625  9.375 12.75   9.375  5.625  5.625]\n",
            " [ 3.375  3.375  7.125 10.375  7.125  3.375  3.375]\n",
            " [ 3.375  3.375  7.125 10.25   7.125  3.375  3.375]\n",
            " [ 5.625  5.625  9.375 12.375  9.375  5.625  5.625]\n",
            " [ 0.     0.     3.75   6.625  3.75   0.     0.   ]]\n"
          ]
        }
      ]
    },
    {
      "cell_type": "code",
      "source": [
        "plotR(b, 'bwr') #practically desired pattern is obtained"
      ],
      "metadata": {
        "colab": {
          "base_uri": "https://localhost:8080/",
          "height": 269
        },
        "id": "x7oO7o_PsKyF",
        "outputId": "34a3de07-80fd-4bb6-b448-8d041aa03581"
      },
      "execution_count": null,
      "outputs": [
        {
          "output_type": "display_data",
          "data": {
            "text/plain": [
              "<Figure size 432x288 with 2 Axes>"
            ],
            "image/png": "[encoded data removed]"
          },
          "metadata": {
            "needs_background": "light"
          }
        }
      ]
    },
    {
      "cell_type": "code",
      "source": [
        "lb1 = dose(1,2,0,7,7, \"LeftRight\")\n",
        "lb2 = dose(0,6,3,4, 9, \"DownUp\")\n",
        "lb3 = dose(4,5,0,7, 9, \"RightLeft\")\n",
        "\n"
      ],
      "metadata": {
        "id": "9tvxqos2FK8D"
      },
      "execution_count": null,
      "outputs": []
    },
    {
      "cell_type": "code",
      "source": [
        "lb = lb1 + lb2 + lb3"
      ],
      "metadata": {
        "id": "AW5Tgu8-Fqyj"
      },
      "execution_count": null,
      "outputs": []
    },
    {
      "cell_type": "code",
      "source": [
        "lb"
      ],
      "metadata": {
        "colab": {
          "base_uri": "https://localhost:8080/"
        },
        "id": "ssyhs_9lFwKt",
        "outputId": "5eac196a-abf6-4983-daea-1b689904d480"
      },
      "execution_count": null,
      "outputs": [
        {
          "output_type": "execute_result",
          "data": {
            "text/plain": [
              "array([[ 0.   ,  0.   ,  0.   ,  9.   ,  0.   ,  0.   ,  0.   ],\n",
              "       [ 7.   ,  6.125,  5.25 , 12.25 ,  3.5  ,  2.625,  1.75 ],\n",
              "       [ 0.   ,  0.   ,  0.   ,  6.75 ,  0.   ,  0.   ,  0.   ],\n",
              "       [ 0.   ,  0.   ,  0.   ,  5.625,  0.   ,  0.   ,  0.   ],\n",
              "       [ 1.125,  2.25 ,  3.375,  9.   ,  5.625,  6.75 ,  7.875],\n",
              "       [ 0.   ,  0.   ,  0.   ,  3.375,  0.   ,  0.   ,  0.   ]])"
            ]
          },
          "metadata": {},
          "execution_count": 34
        }
      ]
    },
    {
      "cell_type": "code",
      "source": [
        "plotR(lb, 'bwr')"
      ],
      "metadata": {
        "colab": {
          "base_uri": "https://localhost:8080/",
          "height": 269
        },
        "id": "HMJ2CN1sFyUz",
        "outputId": "443da9bd-1ab3-441b-b9e2-4e8b60a21f7b"
      },
      "execution_count": null,
      "outputs": [
        {
          "output_type": "display_data",
          "data": {
            "text/plain": [
              "<Figure size 432x288 with 2 Axes>"
            ],
            "image/png": "[encoded data removed]"
          },
          "metadata": {
            "needs_background": "light"
          }
        }
      ]
    }
  ]
}